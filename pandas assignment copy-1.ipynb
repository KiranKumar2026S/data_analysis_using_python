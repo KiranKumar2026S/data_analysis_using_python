{
 "cells": [
  {
   "cell_type": "code",
   "execution_count": 3,
   "id": "462cccb3",
   "metadata": {},
   "outputs": [],
   "source": [
    "import pandas as pd\n",
    "import numpy as np"
   ]
  },
  {
   "cell_type": "code",
   "execution_count": 4,
   "id": "973efaa2",
   "metadata": {},
   "outputs": [
    {
     "data": {
      "text/html": [
       "<div>\n",
       "<style scoped>\n",
       "    .dataframe tbody tr th:only-of-type {\n",
       "        vertical-align: middle;\n",
       "    }\n",
       "\n",
       "    .dataframe tbody tr th {\n",
       "        vertical-align: top;\n",
       "    }\n",
       "\n",
       "    .dataframe thead th {\n",
       "        text-align: right;\n",
       "    }\n",
       "</style>\n",
       "<table border=\"1\" class=\"dataframe\">\n",
       "  <thead>\n",
       "    <tr style=\"text-align: right;\">\n",
       "      <th></th>\n",
       "      <th>Length</th>\n",
       "      <th>Diameter</th>\n",
       "      <th>Height</th>\n",
       "      <th>Weight</th>\n",
       "      <th>Shucked Weight</th>\n",
       "      <th>Viscera Weight</th>\n",
       "      <th>Shell Weight</th>\n",
       "      <th>Age</th>\n",
       "    </tr>\n",
       "  </thead>\n",
       "  <tbody>\n",
       "    <tr>\n",
       "      <th>0</th>\n",
       "      <td>1.5750</td>\n",
       "      <td>1.2250</td>\n",
       "      <td>0.3750</td>\n",
       "      <td>31.226974</td>\n",
       "      <td>12.303683</td>\n",
       "      <td>6.321938</td>\n",
       "      <td>9.638830</td>\n",
       "      <td>10</td>\n",
       "    </tr>\n",
       "    <tr>\n",
       "      <th>1</th>\n",
       "      <td>1.2375</td>\n",
       "      <td>1.0000</td>\n",
       "      <td>0.3750</td>\n",
       "      <td>21.885814</td>\n",
       "      <td>7.654365</td>\n",
       "      <td>3.798833</td>\n",
       "      <td>7.654365</td>\n",
       "      <td>19</td>\n",
       "    </tr>\n",
       "    <tr>\n",
       "      <th>2</th>\n",
       "      <td>1.4500</td>\n",
       "      <td>1.1625</td>\n",
       "      <td>0.4125</td>\n",
       "      <td>28.250277</td>\n",
       "      <td>11.127179</td>\n",
       "      <td>7.016501</td>\n",
       "      <td>7.257472</td>\n",
       "      <td>11</td>\n",
       "    </tr>\n",
       "    <tr>\n",
       "      <th>3</th>\n",
       "      <td>1.3500</td>\n",
       "      <td>1.0250</td>\n",
       "      <td>0.3750</td>\n",
       "      <td>21.588144</td>\n",
       "      <td>9.738053</td>\n",
       "      <td>4.110678</td>\n",
       "      <td>6.378637</td>\n",
       "      <td>9</td>\n",
       "    </tr>\n",
       "    <tr>\n",
       "      <th>4</th>\n",
       "      <td>1.1375</td>\n",
       "      <td>0.8750</td>\n",
       "      <td>0.2875</td>\n",
       "      <td>14.968536</td>\n",
       "      <td>5.953395</td>\n",
       "      <td>2.962523</td>\n",
       "      <td>3.713785</td>\n",
       "      <td>8</td>\n",
       "    </tr>\n",
       "    <tr>\n",
       "      <th>...</th>\n",
       "      <td>...</td>\n",
       "      <td>...</td>\n",
       "      <td>...</td>\n",
       "      <td>...</td>\n",
       "      <td>...</td>\n",
       "      <td>...</td>\n",
       "      <td>...</td>\n",
       "      <td>...</td>\n",
       "    </tr>\n",
       "    <tr>\n",
       "      <th>199995</th>\n",
       "      <td>1.8125</td>\n",
       "      <td>1.2750</td>\n",
       "      <td>0.4375</td>\n",
       "      <td>42.141532</td>\n",
       "      <td>20.000572</td>\n",
       "      <td>9.979024</td>\n",
       "      <td>11.609120</td>\n",
       "      <td>11</td>\n",
       "    </tr>\n",
       "    <tr>\n",
       "      <th>199996</th>\n",
       "      <td>0.9875</td>\n",
       "      <td>0.6750</td>\n",
       "      <td>0.2375</td>\n",
       "      <td>7.980384</td>\n",
       "      <td>3.742134</td>\n",
       "      <td>1.913591</td>\n",
       "      <td>2.267960</td>\n",
       "      <td>6</td>\n",
       "    </tr>\n",
       "    <tr>\n",
       "      <th>199997</th>\n",
       "      <td>1.1250</td>\n",
       "      <td>0.9125</td>\n",
       "      <td>0.2875</td>\n",
       "      <td>10.886208</td>\n",
       "      <td>4.904464</td>\n",
       "      <td>1.984465</td>\n",
       "      <td>3.118445</td>\n",
       "      <td>7</td>\n",
       "    </tr>\n",
       "    <tr>\n",
       "      <th>199998</th>\n",
       "      <td>1.6250</td>\n",
       "      <td>1.2750</td>\n",
       "      <td>0.4125</td>\n",
       "      <td>33.891827</td>\n",
       "      <td>13.196692</td>\n",
       "      <td>7.866986</td>\n",
       "      <td>10.489315</td>\n",
       "      <td>11</td>\n",
       "    </tr>\n",
       "    <tr>\n",
       "      <th>199999</th>\n",
       "      <td>1.5875</td>\n",
       "      <td>1.2500</td>\n",
       "      <td>0.3875</td>\n",
       "      <td>34.373769</td>\n",
       "      <td>17.222321</td>\n",
       "      <td>7.385045</td>\n",
       "      <td>8.788345</td>\n",
       "      <td>11</td>\n",
       "    </tr>\n",
       "  </tbody>\n",
       "</table>\n",
       "<p>200000 rows × 8 columns</p>\n",
       "</div>"
      ],
      "text/plain": [
       "        Length  Diameter  Height     Weight  Shucked Weight  Viscera Weight  \\\n",
       "0       1.5750    1.2250  0.3750  31.226974       12.303683        6.321938   \n",
       "1       1.2375    1.0000  0.3750  21.885814        7.654365        3.798833   \n",
       "2       1.4500    1.1625  0.4125  28.250277       11.127179        7.016501   \n",
       "3       1.3500    1.0250  0.3750  21.588144        9.738053        4.110678   \n",
       "4       1.1375    0.8750  0.2875  14.968536        5.953395        2.962523   \n",
       "...        ...       ...     ...        ...             ...             ...   \n",
       "199995  1.8125    1.2750  0.4375  42.141532       20.000572        9.979024   \n",
       "199996  0.9875    0.6750  0.2375   7.980384        3.742134        1.913591   \n",
       "199997  1.1250    0.9125  0.2875  10.886208        4.904464        1.984465   \n",
       "199998  1.6250    1.2750  0.4125  33.891827       13.196692        7.866986   \n",
       "199999  1.5875    1.2500  0.3875  34.373769       17.222321        7.385045   \n",
       "\n",
       "        Shell Weight  Age  \n",
       "0           9.638830   10  \n",
       "1           7.654365   19  \n",
       "2           7.257472   11  \n",
       "3           6.378637    9  \n",
       "4           3.713785    8  \n",
       "...              ...  ...  \n",
       "199995     11.609120   11  \n",
       "199996      2.267960    6  \n",
       "199997      3.118445    7  \n",
       "199998     10.489315   11  \n",
       "199999      8.788345   11  \n",
       "\n",
       "[200000 rows x 8 columns]"
      ]
     },
     "execution_count": 4,
     "metadata": {},
     "output_type": "execute_result"
    }
   ],
   "source": [
    "Data=pd.read_csv(r\"C:\\Users\\hi\\Downloads\\train_extended.csv\")\n",
    "Data"
   ]
  },
  {
   "cell_type": "code",
   "execution_count": 5,
   "id": "bf9a503c",
   "metadata": {},
   "outputs": [],
   "source": [
    "data=Data.copy()"
   ]
  },
  {
   "cell_type": "code",
   "execution_count": 5,
   "id": "1b6bfdf2",
   "metadata": {},
   "outputs": [
    {
     "data": {
      "text/plain": [
       "7.58349125"
      ]
     },
     "execution_count": 5,
     "metadata": {},
     "output_type": "execute_result"
    }
   ],
   "source": [
    "#1\n",
    "max1=Data[\"Length\"].max()\n",
    "max1"
   ]
  },
  {
   "cell_type": "code",
   "execution_count": 6,
   "id": "351d79bf",
   "metadata": {},
   "outputs": [
    {
     "data": {
      "text/plain": [
       "0.0"
      ]
     },
     "execution_count": 6,
     "metadata": {},
     "output_type": "execute_result"
    }
   ],
   "source": [
    "min1=Data[\"Length\"].min()\n",
    "min1"
   ]
  },
  {
   "cell_type": "code",
   "execution_count": 7,
   "id": "be63ec42",
   "metadata": {},
   "outputs": [
    {
     "data": {
      "text/plain": [
       "7.58349125"
      ]
     },
     "execution_count": 7,
     "metadata": {},
     "output_type": "execute_result"
    }
   ],
   "source": [
    "#2\n",
    "max1-min1"
   ]
  },
  {
   "cell_type": "code",
   "execution_count": 8,
   "id": "807329ed",
   "metadata": {},
   "outputs": [
    {
     "data": {
      "text/plain": [
       "Length             1.312448\n",
       "Diameter           1.020320\n",
       "Height             0.346028\n",
       "Weight            23.123436\n",
       "Shucked Weight     9.989370\n",
       "Viscera Weight     4.993181\n",
       "Shell Weight       6.634229\n",
       "Age                9.950615\n",
       "dtype: float64"
      ]
     },
     "execution_count": 8,
     "metadata": {},
     "output_type": "execute_result"
    }
   ],
   "source": [
    "#3\n",
    "Data.mean()"
   ]
  },
  {
   "cell_type": "code",
   "execution_count": 9,
   "id": "c2f604a4",
   "metadata": {},
   "outputs": [
    {
     "data": {
      "text/html": [
       "<div>\n",
       "<style scoped>\n",
       "    .dataframe tbody tr th:only-of-type {\n",
       "        vertical-align: middle;\n",
       "    }\n",
       "\n",
       "    .dataframe tbody tr th {\n",
       "        vertical-align: top;\n",
       "    }\n",
       "\n",
       "    .dataframe thead th {\n",
       "        text-align: right;\n",
       "    }\n",
       "</style>\n",
       "<table border=\"1\" class=\"dataframe\">\n",
       "  <thead>\n",
       "    <tr style=\"text-align: right;\">\n",
       "      <th></th>\n",
       "      <th>Age</th>\n",
       "    </tr>\n",
       "  </thead>\n",
       "  <tbody>\n",
       "    <tr>\n",
       "      <th>2</th>\n",
       "      <td>11</td>\n",
       "    </tr>\n",
       "    <tr>\n",
       "      <th>6</th>\n",
       "      <td>14</td>\n",
       "    </tr>\n",
       "    <tr>\n",
       "      <th>7</th>\n",
       "      <td>13</td>\n",
       "    </tr>\n",
       "    <tr>\n",
       "      <th>10</th>\n",
       "      <td>10</td>\n",
       "    </tr>\n",
       "    <tr>\n",
       "      <th>14</th>\n",
       "      <td>14</td>\n",
       "    </tr>\n",
       "    <tr>\n",
       "      <th>...</th>\n",
       "      <td>...</td>\n",
       "    </tr>\n",
       "    <tr>\n",
       "      <th>199976</th>\n",
       "      <td>14</td>\n",
       "    </tr>\n",
       "    <tr>\n",
       "      <th>199977</th>\n",
       "      <td>21</td>\n",
       "    </tr>\n",
       "    <tr>\n",
       "      <th>199984</th>\n",
       "      <td>11</td>\n",
       "    </tr>\n",
       "    <tr>\n",
       "      <th>199995</th>\n",
       "      <td>11</td>\n",
       "    </tr>\n",
       "    <tr>\n",
       "      <th>199998</th>\n",
       "      <td>11</td>\n",
       "    </tr>\n",
       "  </tbody>\n",
       "</table>\n",
       "<p>55336 rows × 1 columns</p>\n",
       "</div>"
      ],
      "text/plain": [
       "        Age\n",
       "2        11\n",
       "6        14\n",
       "7        13\n",
       "10       10\n",
       "14       14\n",
       "...     ...\n",
       "199976   14\n",
       "199977   21\n",
       "199984   11\n",
       "199995   11\n",
       "199998   11\n",
       "\n",
       "[55336 rows x 1 columns]"
      ]
     },
     "execution_count": 9,
     "metadata": {},
     "output_type": "execute_result"
    }
   ],
   "source": [
    "#4\n",
    "Data.loc[Data[\"Height\"]>0.4,[\"Age\"]]"
   ]
  },
  {
   "cell_type": "code",
   "execution_count": 10,
   "id": "90ca6970",
   "metadata": {},
   "outputs": [
    {
     "data": {
      "text/html": [
       "<div>\n",
       "<style scoped>\n",
       "    .dataframe tbody tr th:only-of-type {\n",
       "        vertical-align: middle;\n",
       "    }\n",
       "\n",
       "    .dataframe tbody tr th {\n",
       "        vertical-align: top;\n",
       "    }\n",
       "\n",
       "    .dataframe thead th {\n",
       "        text-align: right;\n",
       "    }\n",
       "</style>\n",
       "<table border=\"1\" class=\"dataframe\">\n",
       "  <thead>\n",
       "    <tr style=\"text-align: right;\">\n",
       "      <th></th>\n",
       "      <th>Height</th>\n",
       "      <th>Weight</th>\n",
       "    </tr>\n",
       "  </thead>\n",
       "  <tbody>\n",
       "    <tr>\n",
       "      <th>0</th>\n",
       "      <td>0.3750</td>\n",
       "      <td>31.226974</td>\n",
       "    </tr>\n",
       "    <tr>\n",
       "      <th>5</th>\n",
       "      <td>0.4000</td>\n",
       "      <td>28.335325</td>\n",
       "    </tr>\n",
       "    <tr>\n",
       "      <th>9</th>\n",
       "      <td>0.3375</td>\n",
       "      <td>18.313777</td>\n",
       "    </tr>\n",
       "    <tr>\n",
       "      <th>10</th>\n",
       "      <td>0.4250</td>\n",
       "      <td>35.989690</td>\n",
       "    </tr>\n",
       "    <tr>\n",
       "      <th>28</th>\n",
       "      <td>0.4125</td>\n",
       "      <td>29.965422</td>\n",
       "    </tr>\n",
       "    <tr>\n",
       "      <th>...</th>\n",
       "      <td>...</td>\n",
       "      <td>...</td>\n",
       "    </tr>\n",
       "    <tr>\n",
       "      <th>199955</th>\n",
       "      <td>0.3750</td>\n",
       "      <td>29.951247</td>\n",
       "    </tr>\n",
       "    <tr>\n",
       "      <th>199957</th>\n",
       "      <td>0.4375</td>\n",
       "      <td>32.715323</td>\n",
       "    </tr>\n",
       "    <tr>\n",
       "      <th>199974</th>\n",
       "      <td>0.3125</td>\n",
       "      <td>26.180763</td>\n",
       "    </tr>\n",
       "    <tr>\n",
       "      <th>199987</th>\n",
       "      <td>0.3875</td>\n",
       "      <td>30.461538</td>\n",
       "    </tr>\n",
       "    <tr>\n",
       "      <th>199989</th>\n",
       "      <td>0.3875</td>\n",
       "      <td>34.954934</td>\n",
       "    </tr>\n",
       "  </tbody>\n",
       "</table>\n",
       "<p>30803 rows × 2 columns</p>\n",
       "</div>"
      ],
      "text/plain": [
       "        Height     Weight\n",
       "0       0.3750  31.226974\n",
       "5       0.4000  28.335325\n",
       "9       0.3375  18.313777\n",
       "10      0.4250  35.989690\n",
       "28      0.4125  29.965422\n",
       "...        ...        ...\n",
       "199955  0.3750  29.951247\n",
       "199957  0.4375  32.715323\n",
       "199974  0.3125  26.180763\n",
       "199987  0.3875  30.461538\n",
       "199989  0.3875  34.954934\n",
       "\n",
       "[30803 rows x 2 columns]"
      ]
     },
     "execution_count": 10,
     "metadata": {},
     "output_type": "execute_result"
    }
   ],
   "source": [
    "#5\n",
    "x=Data.loc[Data[\"Age\"]==10,[\"Height\",\"Weight\"]]\n",
    "x"
   ]
  },
  {
   "cell_type": "code",
   "execution_count": 11,
   "id": "68f34ae0",
   "metadata": {},
   "outputs": [
    {
     "data": {
      "text/plain": [
       "Height     0.383367\n",
       "Weight    28.243308\n",
       "dtype: float64"
      ]
     },
     "execution_count": 11,
     "metadata": {},
     "output_type": "execute_result"
    }
   ],
   "source": [
    "x.mean()"
   ]
  },
  {
   "cell_type": "code",
   "execution_count": 12,
   "id": "e74ad45c",
   "metadata": {},
   "outputs": [
    {
     "data": {
      "text/plain": [
       "1326845.8295214002"
      ]
     },
     "execution_count": 12,
     "metadata": {},
     "output_type": "execute_result"
    }
   ],
   "source": [
    "#6\n",
    "Data[\"Shell Weight\"].sum()"
   ]
  },
  {
   "cell_type": "code",
   "execution_count": 13,
   "id": "31f231ee",
   "metadata": {},
   "outputs": [
    {
     "data": {
      "text/plain": [
       "9     32906\n",
       "10    30803\n",
       "8     26818\n",
       "11    23457\n",
       "7     18276\n",
       "12    12717\n",
       "6     12450\n",
       "13    10037\n",
       "14     6352\n",
       "5      5475\n",
       "15     4831\n",
       "16     3191\n",
       "4      2787\n",
       "17     2705\n",
       "18     1953\n",
       "19     1591\n",
       "20     1206\n",
       "21      721\n",
       "3       625\n",
       "23      352\n",
       "22      296\n",
       "24      110\n",
       "27       99\n",
       "29       57\n",
       "25       51\n",
       "26       46\n",
       "1        46\n",
       "2        42\n",
       "Name: Age, dtype: int64"
      ]
     },
     "execution_count": 13,
     "metadata": {},
     "output_type": "execute_result"
    }
   ],
   "source": [
    "#7\n",
    "Data[\"Age\"].value_counts()"
   ]
  },
  {
   "cell_type": "code",
   "execution_count": 14,
   "id": "2ae83bbb",
   "metadata": {},
   "outputs": [
    {
     "data": {
      "text/html": [
       "<div>\n",
       "<style scoped>\n",
       "    .dataframe tbody tr th:only-of-type {\n",
       "        vertical-align: middle;\n",
       "    }\n",
       "\n",
       "    .dataframe tbody tr th {\n",
       "        vertical-align: top;\n",
       "    }\n",
       "\n",
       "    .dataframe thead th {\n",
       "        text-align: right;\n",
       "    }\n",
       "</style>\n",
       "<table border=\"1\" class=\"dataframe\">\n",
       "  <thead>\n",
       "    <tr style=\"text-align: right;\">\n",
       "      <th></th>\n",
       "      <th>Length</th>\n",
       "      <th>Diameter</th>\n",
       "      <th>Height</th>\n",
       "      <th>Weight</th>\n",
       "      <th>Shucked Weight</th>\n",
       "      <th>Viscera Weight</th>\n",
       "      <th>Shell Weight</th>\n",
       "      <th>Age</th>\n",
       "      <th>difference</th>\n",
       "    </tr>\n",
       "  </thead>\n",
       "  <tbody>\n",
       "    <tr>\n",
       "      <th>0</th>\n",
       "      <td>1.5750</td>\n",
       "      <td>1.2250</td>\n",
       "      <td>0.3750</td>\n",
       "      <td>31.226974</td>\n",
       "      <td>12.303683</td>\n",
       "      <td>6.321938</td>\n",
       "      <td>9.638830</td>\n",
       "      <td>10</td>\n",
       "      <td>5.981744</td>\n",
       "    </tr>\n",
       "    <tr>\n",
       "      <th>1</th>\n",
       "      <td>1.2375</td>\n",
       "      <td>1.0000</td>\n",
       "      <td>0.3750</td>\n",
       "      <td>21.885814</td>\n",
       "      <td>7.654365</td>\n",
       "      <td>3.798833</td>\n",
       "      <td>7.654365</td>\n",
       "      <td>19</td>\n",
       "      <td>3.855532</td>\n",
       "    </tr>\n",
       "    <tr>\n",
       "      <th>2</th>\n",
       "      <td>1.4500</td>\n",
       "      <td>1.1625</td>\n",
       "      <td>0.4125</td>\n",
       "      <td>28.250277</td>\n",
       "      <td>11.127179</td>\n",
       "      <td>7.016501</td>\n",
       "      <td>7.257472</td>\n",
       "      <td>11</td>\n",
       "      <td>4.110678</td>\n",
       "    </tr>\n",
       "    <tr>\n",
       "      <th>3</th>\n",
       "      <td>1.3500</td>\n",
       "      <td>1.0250</td>\n",
       "      <td>0.3750</td>\n",
       "      <td>21.588144</td>\n",
       "      <td>9.738053</td>\n",
       "      <td>4.110678</td>\n",
       "      <td>6.378637</td>\n",
       "      <td>9</td>\n",
       "      <td>5.627376</td>\n",
       "    </tr>\n",
       "    <tr>\n",
       "      <th>4</th>\n",
       "      <td>1.1375</td>\n",
       "      <td>0.8750</td>\n",
       "      <td>0.2875</td>\n",
       "      <td>14.968536</td>\n",
       "      <td>5.953395</td>\n",
       "      <td>2.962523</td>\n",
       "      <td>3.713785</td>\n",
       "      <td>8</td>\n",
       "      <td>2.990872</td>\n",
       "    </tr>\n",
       "    <tr>\n",
       "      <th>...</th>\n",
       "      <td>...</td>\n",
       "      <td>...</td>\n",
       "      <td>...</td>\n",
       "      <td>...</td>\n",
       "      <td>...</td>\n",
       "      <td>...</td>\n",
       "      <td>...</td>\n",
       "      <td>...</td>\n",
       "      <td>...</td>\n",
       "    </tr>\n",
       "    <tr>\n",
       "      <th>199995</th>\n",
       "      <td>1.8125</td>\n",
       "      <td>1.2750</td>\n",
       "      <td>0.4375</td>\n",
       "      <td>42.141532</td>\n",
       "      <td>20.000572</td>\n",
       "      <td>9.979024</td>\n",
       "      <td>11.609120</td>\n",
       "      <td>11</td>\n",
       "      <td>10.021548</td>\n",
       "    </tr>\n",
       "    <tr>\n",
       "      <th>199996</th>\n",
       "      <td>0.9875</td>\n",
       "      <td>0.6750</td>\n",
       "      <td>0.2375</td>\n",
       "      <td>7.980384</td>\n",
       "      <td>3.742134</td>\n",
       "      <td>1.913591</td>\n",
       "      <td>2.267960</td>\n",
       "      <td>6</td>\n",
       "      <td>1.828543</td>\n",
       "    </tr>\n",
       "    <tr>\n",
       "      <th>199997</th>\n",
       "      <td>1.1250</td>\n",
       "      <td>0.9125</td>\n",
       "      <td>0.2875</td>\n",
       "      <td>10.886208</td>\n",
       "      <td>4.904464</td>\n",
       "      <td>1.984465</td>\n",
       "      <td>3.118445</td>\n",
       "      <td>7</td>\n",
       "      <td>2.919999</td>\n",
       "    </tr>\n",
       "    <tr>\n",
       "      <th>199998</th>\n",
       "      <td>1.6250</td>\n",
       "      <td>1.2750</td>\n",
       "      <td>0.4125</td>\n",
       "      <td>33.891827</td>\n",
       "      <td>13.196692</td>\n",
       "      <td>7.866986</td>\n",
       "      <td>10.489315</td>\n",
       "      <td>11</td>\n",
       "      <td>5.329706</td>\n",
       "    </tr>\n",
       "    <tr>\n",
       "      <th>199999</th>\n",
       "      <td>1.5875</td>\n",
       "      <td>1.2500</td>\n",
       "      <td>0.3875</td>\n",
       "      <td>34.373769</td>\n",
       "      <td>17.222321</td>\n",
       "      <td>7.385045</td>\n",
       "      <td>8.788345</td>\n",
       "      <td>11</td>\n",
       "      <td>9.837277</td>\n",
       "    </tr>\n",
       "  </tbody>\n",
       "</table>\n",
       "<p>200000 rows × 9 columns</p>\n",
       "</div>"
      ],
      "text/plain": [
       "        Length  Diameter  Height     Weight  Shucked Weight  Viscera Weight  \\\n",
       "0       1.5750    1.2250  0.3750  31.226974       12.303683        6.321938   \n",
       "1       1.2375    1.0000  0.3750  21.885814        7.654365        3.798833   \n",
       "2       1.4500    1.1625  0.4125  28.250277       11.127179        7.016501   \n",
       "3       1.3500    1.0250  0.3750  21.588144        9.738053        4.110678   \n",
       "4       1.1375    0.8750  0.2875  14.968536        5.953395        2.962523   \n",
       "...        ...       ...     ...        ...             ...             ...   \n",
       "199995  1.8125    1.2750  0.4375  42.141532       20.000572        9.979024   \n",
       "199996  0.9875    0.6750  0.2375   7.980384        3.742134        1.913591   \n",
       "199997  1.1250    0.9125  0.2875  10.886208        4.904464        1.984465   \n",
       "199998  1.6250    1.2750  0.4125  33.891827       13.196692        7.866986   \n",
       "199999  1.5875    1.2500  0.3875  34.373769       17.222321        7.385045   \n",
       "\n",
       "        Shell Weight  Age  difference  \n",
       "0           9.638830   10    5.981744  \n",
       "1           7.654365   19    3.855532  \n",
       "2           7.257472   11    4.110678  \n",
       "3           6.378637    9    5.627376  \n",
       "4           3.713785    8    2.990872  \n",
       "...              ...  ...         ...  \n",
       "199995     11.609120   11   10.021548  \n",
       "199996      2.267960    6    1.828543  \n",
       "199997      3.118445    7    2.919999  \n",
       "199998     10.489315   11    5.329706  \n",
       "199999      8.788345   11    9.837277  \n",
       "\n",
       "[200000 rows x 9 columns]"
      ]
     },
     "execution_count": 14,
     "metadata": {},
     "output_type": "execute_result"
    }
   ],
   "source": [
    "#8\n",
    "data[\"difference\"]=data[\"Shucked Weight\"]-data[\"Viscera Weight\"]\n",
    "data"
   ]
  },
  {
   "cell_type": "code",
   "execution_count": 15,
   "id": "297784a3",
   "metadata": {},
   "outputs": [
    {
     "data": {
      "text/plain": [
       "Height    0.41907\n",
       "dtype: float64"
      ]
     },
     "execution_count": 15,
     "metadata": {},
     "output_type": "execute_result"
    }
   ],
   "source": [
    "#9\n",
    "Data.loc[Data[\"Age\"]>14,[\"Height\"]].loc[Data[\"Age\"]<19].mean()"
   ]
  },
  {
   "cell_type": "code",
   "execution_count": 6,
   "id": "d6e0b373",
   "metadata": {},
   "outputs": [
    {
     "data": {
      "text/plain": [
       "11.18505416634679"
      ]
     },
     "execution_count": 6,
     "metadata": {},
     "output_type": "execute_result"
    }
   ],
   "source": [
    "#10\n",
    "Data[[\"Weight\",\"Shucked Weight\",\"Viscera Weight\",\"Shell Weight\"]].mean().mean()"
   ]
  },
  {
   "cell_type": "code",
   "execution_count": null,
   "id": "d1a6a5c1",
   "metadata": {},
   "outputs": [],
   "source": []
  },
  {
   "cell_type": "code",
   "execution_count": null,
   "id": "81c94c3c",
   "metadata": {},
   "outputs": [],
   "source": []
  },
  {
   "cell_type": "code",
   "execution_count": 17,
   "id": "0c97efeb",
   "metadata": {},
   "outputs": [
    {
     "data": {
      "text/html": [
       "<div>\n",
       "<style scoped>\n",
       "    .dataframe tbody tr th:only-of-type {\n",
       "        vertical-align: middle;\n",
       "    }\n",
       "\n",
       "    .dataframe tbody tr th {\n",
       "        vertical-align: top;\n",
       "    }\n",
       "\n",
       "    .dataframe thead th {\n",
       "        text-align: right;\n",
       "    }\n",
       "</style>\n",
       "<table border=\"1\" class=\"dataframe\">\n",
       "  <thead>\n",
       "    <tr style=\"text-align: right;\">\n",
       "      <th></th>\n",
       "      <th>Unnamed: 0</th>\n",
       "      <th>total_bill</th>\n",
       "      <th>tip</th>\n",
       "      <th>sex</th>\n",
       "      <th>smoker</th>\n",
       "      <th>day</th>\n",
       "      <th>time</th>\n",
       "      <th>size</th>\n",
       "    </tr>\n",
       "  </thead>\n",
       "  <tbody>\n",
       "    <tr>\n",
       "      <th>0</th>\n",
       "      <td>0</td>\n",
       "      <td>16.99</td>\n",
       "      <td>1.01</td>\n",
       "      <td>0</td>\n",
       "      <td>0</td>\n",
       "      <td>1</td>\n",
       "      <td>0</td>\n",
       "      <td>2</td>\n",
       "    </tr>\n",
       "    <tr>\n",
       "      <th>1</th>\n",
       "      <td>1</td>\n",
       "      <td>10.34</td>\n",
       "      <td>1.66</td>\n",
       "      <td>1</td>\n",
       "      <td>0</td>\n",
       "      <td>1</td>\n",
       "      <td>0</td>\n",
       "      <td>3</td>\n",
       "    </tr>\n",
       "    <tr>\n",
       "      <th>2</th>\n",
       "      <td>2</td>\n",
       "      <td>21.01</td>\n",
       "      <td>3.50</td>\n",
       "      <td>1</td>\n",
       "      <td>0</td>\n",
       "      <td>1</td>\n",
       "      <td>0</td>\n",
       "      <td>3</td>\n",
       "    </tr>\n",
       "    <tr>\n",
       "      <th>3</th>\n",
       "      <td>3</td>\n",
       "      <td>23.68</td>\n",
       "      <td>3.31</td>\n",
       "      <td>1</td>\n",
       "      <td>0</td>\n",
       "      <td>1</td>\n",
       "      <td>0</td>\n",
       "      <td>2</td>\n",
       "    </tr>\n",
       "    <tr>\n",
       "      <th>4</th>\n",
       "      <td>4</td>\n",
       "      <td>24.59</td>\n",
       "      <td>3.61</td>\n",
       "      <td>0</td>\n",
       "      <td>0</td>\n",
       "      <td>1</td>\n",
       "      <td>0</td>\n",
       "      <td>4</td>\n",
       "    </tr>\n",
       "    <tr>\n",
       "      <th>...</th>\n",
       "      <td>...</td>\n",
       "      <td>...</td>\n",
       "      <td>...</td>\n",
       "      <td>...</td>\n",
       "      <td>...</td>\n",
       "      <td>...</td>\n",
       "      <td>...</td>\n",
       "      <td>...</td>\n",
       "    </tr>\n",
       "    <tr>\n",
       "      <th>239</th>\n",
       "      <td>239</td>\n",
       "      <td>29.03</td>\n",
       "      <td>5.92</td>\n",
       "      <td>1</td>\n",
       "      <td>0</td>\n",
       "      <td>0</td>\n",
       "      <td>0</td>\n",
       "      <td>3</td>\n",
       "    </tr>\n",
       "    <tr>\n",
       "      <th>240</th>\n",
       "      <td>240</td>\n",
       "      <td>27.18</td>\n",
       "      <td>2.00</td>\n",
       "      <td>0</td>\n",
       "      <td>1</td>\n",
       "      <td>0</td>\n",
       "      <td>0</td>\n",
       "      <td>2</td>\n",
       "    </tr>\n",
       "    <tr>\n",
       "      <th>241</th>\n",
       "      <td>241</td>\n",
       "      <td>22.67</td>\n",
       "      <td>2.00</td>\n",
       "      <td>1</td>\n",
       "      <td>1</td>\n",
       "      <td>0</td>\n",
       "      <td>0</td>\n",
       "      <td>2</td>\n",
       "    </tr>\n",
       "    <tr>\n",
       "      <th>242</th>\n",
       "      <td>242</td>\n",
       "      <td>17.82</td>\n",
       "      <td>1.75</td>\n",
       "      <td>1</td>\n",
       "      <td>0</td>\n",
       "      <td>0</td>\n",
       "      <td>0</td>\n",
       "      <td>2</td>\n",
       "    </tr>\n",
       "    <tr>\n",
       "      <th>243</th>\n",
       "      <td>243</td>\n",
       "      <td>18.78</td>\n",
       "      <td>3.00</td>\n",
       "      <td>0</td>\n",
       "      <td>0</td>\n",
       "      <td>2</td>\n",
       "      <td>0</td>\n",
       "      <td>2</td>\n",
       "    </tr>\n",
       "  </tbody>\n",
       "</table>\n",
       "<p>244 rows × 8 columns</p>\n",
       "</div>"
      ],
      "text/plain": [
       "     Unnamed: 0  total_bill   tip  sex  smoker  day  time  size\n",
       "0             0       16.99  1.01    0       0    1     0     2\n",
       "1             1       10.34  1.66    1       0    1     0     3\n",
       "2             2       21.01  3.50    1       0    1     0     3\n",
       "3             3       23.68  3.31    1       0    1     0     2\n",
       "4             4       24.59  3.61    0       0    1     0     4\n",
       "..          ...         ...   ...  ...     ...  ...   ...   ...\n",
       "239         239       29.03  5.92    1       0    0     0     3\n",
       "240         240       27.18  2.00    0       1    0     0     2\n",
       "241         241       22.67  2.00    1       1    0     0     2\n",
       "242         242       17.82  1.75    1       0    0     0     2\n",
       "243         243       18.78  3.00    0       0    2     0     2\n",
       "\n",
       "[244 rows x 8 columns]"
      ]
     },
     "execution_count": 17,
     "metadata": {},
     "output_type": "execute_result"
    }
   ],
   "source": [
    "Data1=pd.read_csv(r\"C:\\Users\\hi\\Downloads\\tipsf.csv\")\n",
    "Data1"
   ]
  },
  {
   "cell_type": "code",
   "execution_count": 18,
   "id": "bd521733",
   "metadata": {},
   "outputs": [],
   "source": [
    "data1=Data.copy()"
   ]
  },
  {
   "cell_type": "code",
   "execution_count": 19,
   "id": "348eefff",
   "metadata": {},
   "outputs": [
    {
     "data": {
      "text/plain": [
       "4827.77"
      ]
     },
     "execution_count": 19,
     "metadata": {},
     "output_type": "execute_result"
    }
   ],
   "source": [
    "#1\n",
    "Data1[\"total_bill\"].sum()"
   ]
  },
  {
   "cell_type": "code",
   "execution_count": 20,
   "id": "507f1853",
   "metadata": {},
   "outputs": [
    {
     "data": {
      "text/plain": [
       "731.5799999999999"
      ]
     },
     "execution_count": 20,
     "metadata": {},
     "output_type": "execute_result"
    }
   ],
   "source": [
    "#2\n",
    "Data1[\"tip\"].sum()"
   ]
  },
  {
   "cell_type": "code",
   "execution_count": 21,
   "id": "63dfa9d2",
   "metadata": {},
   "outputs": [
    {
     "data": {
      "text/plain": [
       "0    87\n",
       "1    76\n",
       "2    62\n",
       "3    19\n",
       "Name: day, dtype: int64"
      ]
     },
     "execution_count": 21,
     "metadata": {},
     "output_type": "execute_result"
    }
   ],
   "source": [
    "#3\n",
    "Data1[\"day\"].value_counts()"
   ]
  },
  {
   "cell_type": "code",
   "execution_count": 22,
   "id": "f0bf23ca",
   "metadata": {},
   "outputs": [
    {
     "data": {
      "text/plain": [
       "93"
      ]
     },
     "execution_count": 22,
     "metadata": {},
     "output_type": "execute_result"
    }
   ],
   "source": [
    "#4\n",
    "Data1.loc[Data1[\"smoker\"]==1,[\"smoker\"]].size"
   ]
  },
  {
   "cell_type": "code",
   "execution_count": 23,
   "id": "4f57de36",
   "metadata": {},
   "outputs": [
    {
     "data": {
      "text/plain": [
       "tip    2.833448\n",
       "dtype: float64"
      ]
     },
     "execution_count": 23,
     "metadata": {},
     "output_type": "execute_result"
    }
   ],
   "source": [
    "#5\n",
    "Data1.loc[Data1[\"sex\"]==0,[\"tip\"]].mean()"
   ]
  },
  {
   "cell_type": "code",
   "execution_count": 24,
   "id": "65abf9b3",
   "metadata": {},
   "outputs": [
    {
     "data": {
      "text/plain": [
       "tip    3.089618\n",
       "dtype: float64"
      ]
     },
     "execution_count": 24,
     "metadata": {},
     "output_type": "execute_result"
    }
   ],
   "source": [
    "Data1.loc[Data1[\"sex\"]==1,[\"tip\"]].mean()"
   ]
  },
  {
   "cell_type": "code",
   "execution_count": 25,
   "id": "fd80552c",
   "metadata": {},
   "outputs": [
    {
     "data": {
      "text/plain": [
       "total_bill    1570.95\n",
       "dtype: float64"
      ]
     },
     "execution_count": 25,
     "metadata": {},
     "output_type": "execute_result"
    }
   ],
   "source": [
    "#6\n",
    "Data1.loc[Data1[\"sex\"]==0,[\"total_bill\"]].sum()"
   ]
  },
  {
   "cell_type": "code",
   "execution_count": 26,
   "id": "8332da57",
   "metadata": {},
   "outputs": [
    {
     "data": {
      "text/plain": [
       "total_bill    3256.82\n",
       "dtype: float64"
      ]
     },
     "execution_count": 26,
     "metadata": {},
     "output_type": "execute_result"
    }
   ],
   "source": [
    "Data1.loc[Data1[\"sex\"]==1,[\"total_bill\"]].sum()"
   ]
  },
  {
   "cell_type": "code",
   "execution_count": 27,
   "id": "f25b8759",
   "metadata": {},
   "outputs": [
    {
     "data": {
      "text/plain": [
       "10.0"
      ]
     },
     "execution_count": 27,
     "metadata": {},
     "output_type": "execute_result"
    }
   ],
   "source": [
    "#7\n",
    "Data1[\"tip\"].max()"
   ]
  },
  {
   "cell_type": "code",
   "execution_count": 28,
   "id": "7cda989a",
   "metadata": {},
   "outputs": [
    {
     "data": {
      "text/plain": [
       "1.0"
      ]
     },
     "execution_count": 28,
     "metadata": {},
     "output_type": "execute_result"
    }
   ],
   "source": [
    "Data1[\"tip\"].min()"
   ]
  },
  {
   "cell_type": "code",
   "execution_count": 29,
   "id": "3547d75f",
   "metadata": {},
   "outputs": [
    {
     "data": {
      "text/plain": [
       "sex\n",
       "1      124\n",
       "0       52\n",
       "dtype: int64"
      ]
     },
     "execution_count": 29,
     "metadata": {},
     "output_type": "execute_result"
    }
   ],
   "source": [
    "#8\n",
    "Data1.loc[Data1[\"time\"]==0,[\"sex\"]].value_counts()"
   ]
  },
  {
   "cell_type": "code",
   "execution_count": 30,
   "id": "2651a89a",
   "metadata": {},
   "outputs": [
    {
     "data": {
      "text/plain": [
       "sex\n",
       "0      35\n",
       "1      33\n",
       "dtype: int64"
      ]
     },
     "execution_count": 30,
     "metadata": {},
     "output_type": "execute_result"
    }
   ],
   "source": [
    "Data1.loc[Data1[\"time\"]==1,[\"sex\"]].value_counts()"
   ]
  },
  {
   "cell_type": "code",
   "execution_count": 108,
   "id": "681fe0d2",
   "metadata": {},
   "outputs": [
    {
     "data": {
      "text/plain": [
       "2.569672131147541"
      ]
     },
     "execution_count": 108,
     "metadata": {},
     "output_type": "execute_result"
    }
   ],
   "source": [
    "#9\n",
    "Data1[\"size\"].mean()"
   ]
  },
  {
   "cell_type": "code",
   "execution_count": 135,
   "id": "5580c977",
   "metadata": {},
   "outputs": [
    {
     "data": {
      "text/plain": [
       "sex\n",
       "1      60\n",
       "0      33\n",
       "dtype: int64"
      ]
     },
     "execution_count": 135,
     "metadata": {},
     "output_type": "execute_result"
    }
   ],
   "source": [
    "#10\n",
    "Data1.loc[Data1[\"smoker\"]==1,[\"sex\"]].value_counts()"
   ]
  },
  {
   "cell_type": "code",
   "execution_count": null,
   "id": "0caf9609",
   "metadata": {},
   "outputs": [],
   "source": []
  }
 ],
 "metadata": {
  "kernelspec": {
   "display_name": "Python 3 (ipykernel)",
   "language": "python",
   "name": "python3"
  },
  "language_info": {
   "codemirror_mode": {
    "name": "ipython",
    "version": 3
   },
   "file_extension": ".py",
   "mimetype": "text/x-python",
   "name": "python",
   "nbconvert_exporter": "python",
   "pygments_lexer": "ipython3",
   "version": "3.11.3"
  }
 },
 "nbformat": 4,
 "nbformat_minor": 5
}
