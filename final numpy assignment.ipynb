{
 "cells": [
  {
   "cell_type": "markdown",
   "id": "aea40ebd",
   "metadata": {},
   "source": [
    "# 1) Solve the below problem by using only numpy on tip data set"
   ]
  },
  {
   "cell_type": "code",
   "execution_count": 1,
   "id": "76be5c97",
   "metadata": {},
   "outputs": [],
   "source": [
    "import numpy as np"
   ]
  },
  {
   "cell_type": "code",
   "execution_count": 2,
   "id": "f73f865a",
   "metadata": {},
   "outputs": [
    {
     "data": {
      "text/plain": [
       "array([[  0.  ,  16.99,   1.01, ...,   1.  ,   0.  ,   2.  ],\n",
       "       [  1.  ,  10.34,   1.66, ...,   1.  ,   0.  ,   3.  ],\n",
       "       [  2.  ,  21.01,   3.5 , ...,   1.  ,   0.  ,   3.  ],\n",
       "       ...,\n",
       "       [241.  ,  22.67,   2.  , ...,   0.  ,   0.  ,   2.  ],\n",
       "       [242.  ,  17.82,   1.75, ...,   0.  ,   0.  ,   2.  ],\n",
       "       [243.  ,  18.78,   3.  , ...,   2.  ,   0.  ,   2.  ]])"
      ]
     },
     "execution_count": 2,
     "metadata": {},
     "output_type": "execute_result"
    }
   ],
   "source": [
    "y=np.genfromtxt(r\"C:\\Users\\hi\\Downloads\\tipsf.csv\",delimiter=\",\",skip_header=1)\n",
    "y"
   ]
  },
  {
   "cell_type": "markdown",
   "id": "6fe1f55f",
   "metadata": {},
   "source": [
    "### 1) what is the total bill value?"
   ]
  },
  {
   "cell_type": "code",
   "execution_count": 3,
   "id": "9848541a",
   "metadata": {},
   "outputs": [
    {
     "name": "stdout",
     "output_type": "stream",
     "text": [
      "the total bill value: 4827.77\n"
     ]
    }
   ],
   "source": [
    "a=np.sum(y[:,1])\n",
    "print(\"the total bill value:\",a)"
   ]
  },
  {
   "cell_type": "markdown",
   "id": "1bef7bd5",
   "metadata": {},
   "source": [
    "### 2) what is the total tip value?"
   ]
  },
  {
   "cell_type": "code",
   "execution_count": 4,
   "id": "9ae10e77",
   "metadata": {},
   "outputs": [
    {
     "name": "stdout",
     "output_type": "stream",
     "text": [
      "the total tip value: 731.5799999999999\n"
     ]
    }
   ],
   "source": [
    "b=np.sum(y[:,2])\n",
    "print(\"the total tip value:\",b)"
   ]
  },
  {
   "cell_type": "markdown",
   "id": "3255c2d9",
   "metadata": {},
   "source": [
    "### 3) count how many sun, sat, thu, fri are there?"
   ]
  },
  {
   "cell_type": "code",
   "execution_count": 7,
   "id": "774e485e",
   "metadata": {},
   "outputs": [],
   "source": [
    "f=y[:,5]\n",
    "day,count=np.unique(f,return_counts=True)"
   ]
  },
  {
   "cell_type": "code",
   "execution_count": 17,
   "id": "063051a8",
   "metadata": {},
   "outputs": [
    {
     "name": "stdout",
     "output_type": "stream",
     "text": [
      "no of sundays: 87\n",
      "no of saturdays: 76\n",
      "no of thursdays: 62\n",
      "no of fridays: 19\n"
     ]
    }
   ],
   "source": [
    "print(\"no of sundays:\",count[0])\n",
    "print(\"no of saturdays:\",count[1])\n",
    "print(\"no of thursdays:\",count[2])\n",
    "print(\"no of fridays:\",count[3])"
   ]
  },
  {
   "cell_type": "markdown",
   "id": "d22c418a",
   "metadata": {},
   "source": [
    "### 4) how many smokers are there?"
   ]
  },
  {
   "cell_type": "code",
   "execution_count": 21,
   "id": "6feccb85",
   "metadata": {},
   "outputs": [],
   "source": [
    "g=y[:,4]\n",
    "total,smokers=np.unique(g,return_counts=True)"
   ]
  },
  {
   "cell_type": "code",
   "execution_count": 22,
   "id": "0b15edaa",
   "metadata": {},
   "outputs": [
    {
     "name": "stdout",
     "output_type": "stream",
     "text": [
      "no of smokers: 93\n"
     ]
    }
   ],
   "source": [
    "print(\"no of smokers:\",smokers[1])"
   ]
  },
  {
   "cell_type": "markdown",
   "id": "548ed55c",
   "metadata": {},
   "source": [
    "### 5) what is the average tip given by male and female?"
   ]
  },
  {
   "cell_type": "code",
   "execution_count": 30,
   "id": "ca486033",
   "metadata": {},
   "outputs": [
    {
     "name": "stdout",
     "output_type": "stream",
     "text": [
      "the average female tip: 2.8334482758620685\n"
     ]
    }
   ],
   "source": [
    "h=np.mean(y[:,2].take(np.where(y[:,3]==0)))\n",
    "print(\"the average female tip:\",h)"
   ]
  },
  {
   "cell_type": "code",
   "execution_count": 31,
   "id": "a3d62431",
   "metadata": {},
   "outputs": [
    {
     "name": "stdout",
     "output_type": "stream",
     "text": [
      "the average male tip: 3.0896178343949043\n"
     ]
    }
   ],
   "source": [
    "i=np.mean(y[:,2].take(np.where(y[:,3]==1)))\n",
    "print(\"the average male tip:\",i)"
   ]
  },
  {
   "cell_type": "markdown",
   "id": "bc2d2a2b",
   "metadata": {},
   "source": [
    "### 6)how much amount have been spent by female and male?"
   ]
  },
  {
   "cell_type": "code",
   "execution_count": 32,
   "id": "90c5a6ec",
   "metadata": {},
   "outputs": [
    {
     "name": "stdout",
     "output_type": "stream",
     "text": [
      "total amount spent by female: 1570.9499999999996\n"
     ]
    }
   ],
   "source": [
    "j=np.sum(y[:,1].take(np.where(y[:,3]==0)))\n",
    "print(\"total amount spent by female:\",j)"
   ]
  },
  {
   "cell_type": "code",
   "execution_count": 33,
   "id": "dc2942b4",
   "metadata": {},
   "outputs": [
    {
     "name": "stdout",
     "output_type": "stream",
     "text": [
      "total amount spent by male: 3256.8199999999997\n"
     ]
    }
   ],
   "source": [
    "k=np.sum(y[:,1].take(np.where(y[:,3]==1)))\n",
    "print(\"total amount spent by male:\",k)"
   ]
  },
  {
   "cell_type": "markdown",
   "id": "7b756770",
   "metadata": {},
   "source": [
    "### 7) what is max and min tip given?"
   ]
  },
  {
   "cell_type": "code",
   "execution_count": 14,
   "id": "b32e2441",
   "metadata": {},
   "outputs": [
    {
     "name": "stdout",
     "output_type": "stream",
     "text": [
      "the max tip given: 10.0\n",
      "\n",
      "the min tip given: 1.0\n"
     ]
    }
   ],
   "source": [
    "c=np.max(y[:,2])\n",
    "d=np.min(y[:,2])\n",
    "print(\"the max tip given:\",c)\n",
    "print()\n",
    "print(\"the min tip given:\",d)"
   ]
  },
  {
   "cell_type": "markdown",
   "id": "d28cb094",
   "metadata": {},
   "source": [
    "### 8) how many male and female going for lunch and dinner?"
   ]
  },
  {
   "cell_type": "code",
   "execution_count": 38,
   "id": "80f34b00",
   "metadata": {},
   "outputs": [
    {
     "name": "stdout",
     "output_type": "stream",
     "text": [
      "total male going for lunch: 124\n",
      "total female going for lunch: 52\n"
     ]
    }
   ],
   "source": [
    "l,m=np.unique(y[:,3].take(np.where(y[:,6]==0)),return_counts=True)\n",
    "print(\"total male going for lunch:\",m[1])\n",
    "print(\"total female going for lunch:\",m[0])"
   ]
  },
  {
   "cell_type": "code",
   "execution_count": 40,
   "id": "dfe38259",
   "metadata": {},
   "outputs": [
    {
     "name": "stdout",
     "output_type": "stream",
     "text": [
      "total male going for dinner: 33\n",
      "total female going for dinner: 35\n"
     ]
    }
   ],
   "source": [
    "n,p=np.unique(y[:,3].take(np.where(y[:,6]==1)),return_counts=True)\n",
    "print(\"total male going for dinner:\",p[1])\n",
    "print(\"total female going for dinner:\",p[0])"
   ]
  },
  {
   "cell_type": "markdown",
   "id": "8534e369",
   "metadata": {},
   "source": [
    "### 9) find out the avg size?"
   ]
  },
  {
   "cell_type": "code",
   "execution_count": 15,
   "id": "84c4450d",
   "metadata": {},
   "outputs": [
    {
     "name": "stdout",
     "output_type": "stream",
     "text": [
      "the avg size is: 2.569672131147541\n"
     ]
    }
   ],
   "source": [
    "e=np.mean(y[:,-1])\n",
    "print(\"the avg size is:\",e)"
   ]
  },
  {
   "cell_type": "markdown",
   "id": "1aa08861",
   "metadata": {},
   "source": [
    "### 10) how many male smokers are there and female smokers are there?"
   ]
  },
  {
   "cell_type": "code",
   "execution_count": 45,
   "id": "ce5f4625",
   "metadata": {},
   "outputs": [
    {
     "name": "stdout",
     "output_type": "stream",
     "text": [
      "female smokers are: 33\n"
     ]
    }
   ],
   "source": [
    "q,s=np.unique(y[:,4].take(np.where(y[:,3]==0)),return_counts=True)\n",
    "print(\"female smokers are:\",s[1])"
   ]
  },
  {
   "cell_type": "code",
   "execution_count": 47,
   "id": "997b95cf",
   "metadata": {},
   "outputs": [
    {
     "name": "stdout",
     "output_type": "stream",
     "text": [
      "male smokers are: 60\n"
     ]
    }
   ],
   "source": [
    "r,t=np.unique(y[:,4].take(np.where(y[:,3]==1)),return_counts=True)\n",
    "print(\"male smokers are:\",t[1])"
   ]
  },
  {
   "cell_type": "code",
   "execution_count": null,
   "id": "bdf9cb97",
   "metadata": {},
   "outputs": [],
   "source": []
  },
  {
   "cell_type": "markdown",
   "id": "65d7298b",
   "metadata": {},
   "source": [
    "# 2) Solve the below problem by using only numpy functions on the  below given data set"
   ]
  },
  {
   "cell_type": "code",
   "execution_count": 2,
   "id": "6045b12f",
   "metadata": {},
   "outputs": [],
   "source": [
    "import numpy as np"
   ]
  },
  {
   "cell_type": "code",
   "execution_count": 3,
   "id": "a93df7c0",
   "metadata": {},
   "outputs": [],
   "source": [
    "x=np.genfromtxt(r\"C:\\Users\\hi\\Downloads\\train_extended.csv\",delimiter=\",\",skip_header=1)"
   ]
  },
  {
   "cell_type": "code",
   "execution_count": 4,
   "id": "c055560e",
   "metadata": {},
   "outputs": [
    {
     "data": {
      "text/plain": [
       "array([[ 1.575     ,  1.225     ,  0.375     , ...,  6.3219385 ,\n",
       "         9.63883   , 10.        ],\n",
       "       [ 1.2375    ,  1.        ,  0.375     , ...,  3.798833  ,\n",
       "         7.654365  , 19.        ],\n",
       "       [ 1.45      ,  1.1625    ,  0.4125    , ...,  7.01650125,\n",
       "         7.257472  , 11.        ],\n",
       "       ...,\n",
       "       [ 1.125     ,  0.9125    ,  0.2875    , ...,  1.984465  ,\n",
       "         3.118445  ,  7.        ],\n",
       "       [ 1.625     ,  1.275     ,  0.4125    , ...,  7.86698625,\n",
       "        10.489315  , 11.        ],\n",
       "       [ 1.5875    ,  1.25      ,  0.3875    , ...,  7.38504475,\n",
       "         8.788345  , 11.        ]])"
      ]
     },
     "execution_count": 4,
     "metadata": {},
     "output_type": "execute_result"
    }
   ],
   "source": [
    "x"
   ]
  },
  {
   "cell_type": "markdown",
   "id": "2666409d",
   "metadata": {},
   "source": [
    "### 1) what is the max and min length?"
   ]
  },
  {
   "cell_type": "code",
   "execution_count": 5,
   "id": "d7a1ef1d",
   "metadata": {},
   "outputs": [
    {
     "name": "stdout",
     "output_type": "stream",
     "text": [
      "the max length: 7.58349125\n",
      "\n",
      "the min length: 0.0\n"
     ]
    }
   ],
   "source": [
    "a=np.max(x[:,0])\n",
    "b=np.min(x[:,0])\n",
    "print(\"the max length:\",a)\n",
    "print()\n",
    "print(\"the min length:\",b)"
   ]
  },
  {
   "cell_type": "markdown",
   "id": "4f493f05",
   "metadata": {},
   "source": [
    "### 2) find out the differnece between max and min length?"
   ]
  },
  {
   "cell_type": "code",
   "execution_count": 17,
   "id": "3496b0c5",
   "metadata": {},
   "outputs": [],
   "source": [
    "def max_min(x):\n",
    "    return np.max(x)-np.min(x)"
   ]
  },
  {
   "cell_type": "code",
   "execution_count": 18,
   "id": "5c3c9e4b",
   "metadata": {},
   "outputs": [
    {
     "name": "stdout",
     "output_type": "stream",
     "text": [
      "the difference between max & min length: 7.58349125\n"
     ]
    }
   ],
   "source": [
    "c=np.apply_along_axis(max_min,0,x[:,0])\n",
    "print(\"the difference between max & min length:\",c)"
   ]
  },
  {
   "cell_type": "markdown",
   "id": "7300151f",
   "metadata": {},
   "source": [
    "### 3) find column wise average?"
   ]
  },
  {
   "cell_type": "code",
   "execution_count": 17,
   "id": "d8d46f57",
   "metadata": {},
   "outputs": [
    {
     "name": "stdout",
     "output_type": "stream",
     "text": [
      "the column wise average:\n"
     ]
    },
    {
     "data": {
      "text/plain": [
       "array([ 1.31244808,  1.02032036,  0.34602787, 23.12343631,  9.98937025,\n",
       "        4.99318096,  6.63422915,  9.950615  ])"
      ]
     },
     "execution_count": 17,
     "metadata": {},
     "output_type": "execute_result"
    }
   ],
   "source": [
    "d=np.mean(x,axis=0)\n",
    "print(\"the column wise average:\")\n",
    "d"
   ]
  },
  {
   "cell_type": "markdown",
   "id": "63b2a16d",
   "metadata": {},
   "source": [
    "### 4) find out all the age whose height is greater than 0.4?"
   ]
  },
  {
   "cell_type": "code",
   "execution_count": 30,
   "id": "6ceac370",
   "metadata": {},
   "outputs": [
    {
     "name": "stdout",
     "output_type": "stream",
     "text": [
      "the height greater than 0.4\n"
     ]
    },
    {
     "data": {
      "text/plain": [
       "array([[ 1.45      ,  1.1625    ,  0.4125    , ...,  7.01650125,\n",
       "         7.257472  , 11.        ],\n",
       "       [ 1.525     ,  1.1875    ,  0.4375    , ...,  7.98038425,\n",
       "         9.2135875 , 14.        ],\n",
       "       [ 1.625     ,  1.2875    ,  0.4375    , ...,  8.66077225,\n",
       "        11.3398    , 13.        ],\n",
       "       ...,\n",
       "       [ 1.6875    ,  1.3125    ,  0.425     , ...,  8.57572375,\n",
       "        11.4815475 , 11.        ],\n",
       "       [ 1.8125    ,  1.275     ,  0.4375    , ...,  9.979024  ,\n",
       "        11.60912025, 11.        ],\n",
       "       [ 1.625     ,  1.275     ,  0.4125    , ...,  7.86698625,\n",
       "        10.489315  , 11.        ]])"
      ]
     },
     "execution_count": 30,
     "metadata": {},
     "output_type": "execute_result"
    }
   ],
   "source": [
    "w=x[x[:,2]>0.4]\n",
    "print(\"the height greater than 0.4\")\n",
    "w"
   ]
  },
  {
   "cell_type": "code",
   "execution_count": 32,
   "id": "f555e6ed",
   "metadata": {},
   "outputs": [
    {
     "name": "stdout",
     "output_type": "stream",
     "text": [
      "persons age whose height > 0.4:\n"
     ]
    },
    {
     "data": {
      "text/plain": [
       "array([11., 14., 13., ..., 11., 11., 11.])"
      ]
     },
     "execution_count": 32,
     "metadata": {},
     "output_type": "execute_result"
    }
   ],
   "source": [
    "print(\"persons age whose height > 0.4:\")\n",
    "w[:,-1]"
   ]
  },
  {
   "cell_type": "code",
   "execution_count": 27,
   "id": "e959a224",
   "metadata": {},
   "outputs": [
    {
     "data": {
      "text/plain": [
       "(array([ 5.,  6.,  7.,  8.,  9., 10., 11., 12., 13., 14., 15., 16., 17.,\n",
       "        18., 19., 20., 21., 22., 23., 24., 25., 26., 27., 29.]),\n",
       " array([    1,    11,    42,  1166,  6542, 10562, 11803,  6074,  5058,\n",
       "         3150,  2453,  2028,  1764,  1373,  1067,   954,   477,   249,\n",
       "          262,    89,    48,    39,    75,    49], dtype=int64))"
      ]
     },
     "execution_count": 27,
     "metadata": {},
     "output_type": "execute_result"
    }
   ],
   "source": [
    "np.unique(w[:,-1],return_counts=True)"
   ]
  },
  {
   "cell_type": "markdown",
   "id": "2d57051a",
   "metadata": {},
   "source": [
    "### 5) what is average height & weight of the persons whose age is 10?"
   ]
  },
  {
   "cell_type": "code",
   "execution_count": 20,
   "id": "eb1dfdf8",
   "metadata": {},
   "outputs": [
    {
     "data": {
      "text/plain": [
       "array([[ 1.575     ,  1.225     ,  0.375     , ...,  6.3219385 ,\n",
       "         9.63883   , 10.        ],\n",
       "       [ 1.4875    ,  1.1875    ,  0.4       , ...,  7.66853975,\n",
       "         8.50485   , 10.        ],\n",
       "       [ 1.3375    ,  1.0125    ,  0.3375    , ...,  4.195726  ,\n",
       "         5.953395  , 10.        ],\n",
       "       ...,\n",
       "       [ 1.5       ,  1.1625    ,  0.3125    , ...,  4.86193925,\n",
       "         7.6827145 , 10.        ],\n",
       "       [ 1.5125    ,  1.2125    ,  0.3875    , ...,  7.427569  ,\n",
       "         8.9300925 , 10.        ],\n",
       "       [ 1.55      ,  1.2125    ,  0.3875    , ...,  7.01650125,\n",
       "         9.2135875 , 10.        ]])"
      ]
     },
     "execution_count": 20,
     "metadata": {},
     "output_type": "execute_result"
    }
   ],
   "source": [
    "z=x[x[:,-1]==10]\n",
    "z"
   ]
  },
  {
   "cell_type": "code",
   "execution_count": 22,
   "id": "ea8428e5",
   "metadata": {},
   "outputs": [
    {
     "name": "stdout",
     "output_type": "stream",
     "text": [
      "the average height of persons of age 10: 0.3833672856539947\n",
      "\n",
      "the average weight of persons of age 10: 28.243308450511314\n"
     ]
    }
   ],
   "source": [
    "s=np.mean(z[:,2])\n",
    "p=np.mean(z[:,3])\n",
    "print(\"the average height of persons of age 10:\",s)\n",
    "print()\n",
    "print(\"the average weight of persons of age 10:\",p)"
   ]
  },
  {
   "cell_type": "markdown",
   "id": "c77a764b",
   "metadata": {},
   "source": [
    "### 6) what is the total shell weight?"
   ]
  },
  {
   "cell_type": "code",
   "execution_count": 28,
   "id": "50976ff8",
   "metadata": {},
   "outputs": [
    {
     "name": "stdout",
     "output_type": "stream",
     "text": [
      "the total shell weight is:\n"
     ]
    },
    {
     "data": {
      "text/plain": [
       "1326845.8295214002"
      ]
     },
     "execution_count": 28,
     "metadata": {},
     "output_type": "execute_result"
    }
   ],
   "source": [
    "f=np.sum(x[:,-2])\n",
    "print(\"the total shell weight is:\")\n",
    "f"
   ]
  },
  {
   "cell_type": "markdown",
   "id": "c885ea2c",
   "metadata": {},
   "source": [
    "### 7) how many persons belongs to each and every unique age?"
   ]
  },
  {
   "cell_type": "code",
   "execution_count": 37,
   "id": "153267b0",
   "metadata": {},
   "outputs": [
    {
     "name": "stdout",
     "output_type": "stream",
     "text": [
      "persons belongs to each and every unique age:\n"
     ]
    },
    {
     "data": {
      "text/plain": [
       "(array([ 1.,  2.,  3.,  4.,  5.,  6.,  7.,  8.,  9., 10., 11., 12., 13.,\n",
       "        14., 15., 16., 17., 18., 19., 20., 21., 22., 23., 24., 25., 26.,\n",
       "        27., 29.]),\n",
       " array([   46,    42,   625,  2787,  5475, 12450, 18276, 26818, 32906,\n",
       "        30803, 23457, 12717, 10037,  6352,  4831,  3191,  2705,  1953,\n",
       "         1591,  1206,   721,   296,   352,   110,    51,    46,    99,\n",
       "           57], dtype=int64))"
      ]
     },
     "execution_count": 37,
     "metadata": {},
     "output_type": "execute_result"
    }
   ],
   "source": [
    "g=np.unique(x[:,-1],return_counts=True)\n",
    "print(\"persons belongs to each and every unique age:\")\n",
    "g"
   ]
  },
  {
   "cell_type": "markdown",
   "id": "05b51d37",
   "metadata": {},
   "source": [
    "### 8) what is the difference between Shucked Weight and Viscera Weight?"
   ]
  },
  {
   "cell_type": "code",
   "execution_count": 9,
   "id": "146aa754",
   "metadata": {},
   "outputs": [
    {
     "name": "stdout",
     "output_type": "stream",
     "text": [
      "the difference b/w shucked weight & viscera weight:\n"
     ]
    },
    {
     "data": {
      "text/plain": [
       "array([5.9817445, 3.855532 , 4.1106775, ..., 2.9199985, 5.329706 ,\n",
       "       9.8372765])"
      ]
     },
     "execution_count": 9,
     "metadata": {},
     "output_type": "execute_result"
    }
   ],
   "source": [
    "#shucked weight\n",
    "i=(x[:,4])\n",
    "#viscera weight\n",
    "j=(x[:,-3])\n",
    "print(\"the difference b/w shucked weight & viscera weight:\")\n",
    "i-j"
   ]
  },
  {
   "cell_type": "markdown",
   "id": "099127ca",
   "metadata": {},
   "source": [
    "### 9) what is the average height of the persons whose age is between 14 & 19?"
   ]
  },
  {
   "cell_type": "code",
   "execution_count": 35,
   "id": "ab0fef7d",
   "metadata": {},
   "outputs": [
    {
     "name": "stdout",
     "output_type": "stream",
     "text": [
      "persons age between 14 & 19:\n"
     ]
    },
    {
     "data": {
      "text/plain": [
       "array([[ 1.275     ,  1.        ,  0.3875    , ...,  5.85417175,\n",
       "         6.9456275 , 16.        ],\n",
       "       [ 1.425     ,  1.15      ,  0.3625    , ...,  5.8683465 ,\n",
       "         7.5126175 , 17.        ],\n",
       "       [ 1.5625    ,  1.1625    ,  0.4       , ...,  5.85417175,\n",
       "         9.355335  , 15.        ],\n",
       "       ...,\n",
       "       [ 1.3       ,  1.        ,  0.35      , ...,  4.89028875,\n",
       "         7.37087   , 15.        ],\n",
       "       [ 1.8       ,  1.45      ,  0.4375    , ..., 11.566596  ,\n",
       "        17.56251525, 16.        ],\n",
       "       [ 1.4375    ,  1.125     ,  0.375     , ...,  5.10291   ,\n",
       "         7.087375  , 15.        ]])"
      ]
     },
     "execution_count": 35,
     "metadata": {},
     "output_type": "execute_result"
    }
   ],
   "source": [
    "q=x[(x[:,-1]>14) & (x[:,-1]<19)]\n",
    "print(\"persons age between 14 & 19:\")\n",
    "q"
   ]
  },
  {
   "cell_type": "code",
   "execution_count": 38,
   "id": "01f9c953",
   "metadata": {},
   "outputs": [
    {
     "name": "stdout",
     "output_type": "stream",
     "text": [
      "avg height of persons with age b/w 14 & 19:\n"
     ]
    },
    {
     "data": {
      "text/plain": [
       "0.4190701892744479"
      ]
     },
     "execution_count": 38,
     "metadata": {},
     "output_type": "execute_result"
    }
   ],
   "source": [
    "j=np.mean(q[:,2])\n",
    "print(\"avg height of persons with age b/w 14 & 19:\")\n",
    "j"
   ]
  },
  {
   "cell_type": "markdown",
   "id": "baf19372",
   "metadata": {},
   "source": [
    "### 10) what is the average weight if we include Shucked Weight, Viscera Weight & Shell Weight?"
   ]
  },
  {
   "cell_type": "code",
   "execution_count": 7,
   "id": "1eba051a",
   "metadata": {},
   "outputs": [
    {
     "name": "stdout",
     "output_type": "stream",
     "text": [
      "the average weight of all:\n"
     ]
    },
    {
     "data": {
      "text/plain": [
       "11.185054166346786"
      ]
     },
     "execution_count": 7,
     "metadata": {},
     "output_type": "execute_result"
    }
   ],
   "source": [
    "n=np.mean(x[:,3:7])\n",
    "print(\"the average weight of all:\")\n",
    "n"
   ]
  }
 ],
 "metadata": {
  "kernelspec": {
   "display_name": "Python 3 (ipykernel)",
   "language": "python",
   "name": "python3"
  },
  "language_info": {
   "codemirror_mode": {
    "name": "ipython",
    "version": 3
   },
   "file_extension": ".py",
   "mimetype": "text/x-python",
   "name": "python",
   "nbconvert_exporter": "python",
   "pygments_lexer": "ipython3",
   "version": "3.11.3"
  }
 },
 "nbformat": 4,
 "nbformat_minor": 5
}
